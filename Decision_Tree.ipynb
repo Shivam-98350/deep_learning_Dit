{
 "cells": [
  {
   "cell_type": "code",
   "execution_count": 1,
   "id": "ae173710",
   "metadata": {},
   "outputs": [],
   "source": [
    "import numpy as np\n",
    "import pandas as pd\n",
    "import seaborn as sns\n",
    "import matplotlib.pyplot as plt\n",
    "sns.set()"
   ]
  },
  {
   "cell_type": "code",
   "execution_count": null,
   "id": "d9526d85",
   "metadata": {},
   "outputs": [],
   "source": []
  },
  {
   "cell_type": "code",
   "execution_count": 12,
   "id": "d26e4ebe",
   "metadata": {},
   "outputs": [],
   "source": [
    "from sklearn.metrics import confusion_matrix,accuracy_score,classification_report\n",
    "from sklearn.tree import DecisionTreeClassifier\n",
    "from sklearn.model_selection import train_test_split"
   ]
  },
  {
   "cell_type": "code",
   "execution_count": 19,
   "id": "c4b60b85",
   "metadata": {},
   "outputs": [],
   "source": [
    " balance_data=pd.read_csv('https://archive.ics.uci.edu/ml/machine-learning-'+'databases/balance-scale/balance-scale.data',sep= ',', header = None)"
   ]
  },
  {
   "cell_type": "markdown",
   "id": "98c56734",
   "metadata": {},
   "source": [
    "## Reading DATA"
   ]
  },
  {
   "cell_type": "code",
   "execution_count": 25,
   "id": "7ff9c141",
   "metadata": {},
   "outputs": [],
   "source": [
    "def importdata():\n",
    "    balance_data=pd.read_csv('https://archive.ics.uci.edu/ml/machine-learning-'+'databases/balance-scale/balance-scale.data',sep= ',', header = None)\n",
    "    print(\"DATASET Length:\",len(balance_data))\n",
    "    print(\"DATASET shape:\",balance_data.shape)\n",
    "    print(balance_data.head())\n",
    "    return balance_data\n"
   ]
  },
  {
   "cell_type": "markdown",
   "id": "cf5c52fd",
   "metadata": {},
   "source": [
    "## Split DATA"
   ]
  },
  {
   "cell_type": "code",
   "execution_count": 20,
   "id": "a6d8b131",
   "metadata": {},
   "outputs": [],
   "source": [
    "def splitdataset(balance_data):\n",
    "    X=balance_data.values[:,1:5]\n",
    "    Y=balance_data.values[:,0]\n",
    "    \n",
    "    X_train,X_test,y_train,y_test=train_test_split(X,Y,test_size=0.3,random_state=50)\n",
    "    \n",
    "    return X,Y,X_train,X_test,y_train,y_test"
   ]
  },
  {
   "cell_type": "code",
   "execution_count": 21,
   "id": "7b40e30f",
   "metadata": {},
   "outputs": [],
   "source": [
    "def train_using_gini(X_train,X_test,y_train):\n",
    "    clf_gini = DecisionTreeClassifier(criterion=\"gini\",random_state=100,max_depth=3,min_samples_leaf=5)\n",
    "    \n",
    "    clf_gini.fit(X_train,y_train)\n",
    "    return clf_gini"
   ]
  },
  {
   "cell_type": "code",
   "execution_count": 22,
   "id": "18683266",
   "metadata": {},
   "outputs": [],
   "source": [
    "def train_using_entropy(X_train,X_test,y_train):\n",
    "    clf_entropy = DecisionTreeClassifier(criterion=\"entropy\",random_state=100,max_depth=3,min_samples_leaf=5)\n",
    "    \n",
    "    clf_entropy.fit(X_train,y_train)\n",
    "    return clf_entropy  \n",
    "    "
   ]
  },
  {
   "cell_type": "code",
   "execution_count": 23,
   "id": "d9cfd816",
   "metadata": {},
   "outputs": [],
   "source": [
    "def prediction(X_test,clf_object):\n",
    "    y_pred=clf_object.predict(X_test)\n",
    "    print(\"predicted values: \")\n",
    "    print(y_pred)\n",
    "    \n",
    "    return y_pred"
   ]
  },
  {
   "cell_type": "code",
   "execution_count": 24,
   "id": "b3ce6107",
   "metadata": {},
   "outputs": [],
   "source": [
    "def cal_accuracy(y_test,y_pred):\n",
    "    \n",
    "    print(\"Confusion Matrix : \",\n",
    "         confusion_matrix(y_test,y_pred))\n",
    "    print(\"Accuracy : \",\n",
    "         accuracy_score(y_test,y_pred)*100)\n",
    "    print(\"Report : \",\n",
    "         classification_report(y_test,y_pred))\n",
    "    "
   ]
  },
  {
   "cell_type": "code",
   "execution_count": 37,
   "id": "c9e32380",
   "metadata": {},
   "outputs": [],
   "source": [
    "def main():\n",
    "    data=importdata()\n",
    "    X,Y,X_train,X_test,y_train,y_test=splitdataset(data)\n",
    "    clf_gini=train_using_gini(X_train,X_test,y_train)\n",
    "    clf_entropy=train_using_entropy(X_train,X_test,y_train)\n",
    "    \n",
    "    print(\"Results Using Gini Index : \")\n",
    "    y_pred_gini=prediction(X_test,clf_gini)\n",
    "    cal_accuracy(y_test,y_pred_gini)\n",
    "    \n",
    "    print(\"Results Using Entropy : \")\n",
    "    y_pred_entropy=prediction(X_test,clf_entropy)\n",
    "    cal_accuracy(y_test,y_pred_entropy)"
   ]
  },
  {
   "cell_type": "code",
   "execution_count": 38,
   "id": "c0d3be4f",
   "metadata": {},
   "outputs": [
    {
     "name": "stdout",
     "output_type": "stream",
     "text": [
      "DATASET Length: 625\n",
      "DATASET shape: (625, 5)\n",
      "   0  1  2  3  4\n",
      "0  B  1  1  1  1\n",
      "1  R  1  1  1  2\n",
      "2  R  1  1  1  3\n",
      "3  R  1  1  1  4\n",
      "4  R  1  1  1  5\n",
      "Results Using Gini Index : \n",
      "predicted values: \n",
      "['R' 'R' 'R' 'R' 'R' 'R' 'R' 'L' 'R' 'L' 'R' 'L' 'R' 'L' 'R' 'L' 'R' 'R'\n",
      " 'R' 'R' 'L' 'L' 'L' 'R' 'R' 'R' 'R' 'R' 'R' 'R' 'L' 'R' 'R' 'R' 'L' 'R'\n",
      " 'R' 'R' 'R' 'R' 'L' 'R' 'R' 'L' 'L' 'R' 'R' 'L' 'R' 'L' 'R' 'R' 'L' 'R'\n",
      " 'L' 'L' 'R' 'R' 'R' 'R' 'R' 'L' 'L' 'L' 'R' 'L' 'R' 'R' 'L' 'R' 'R' 'L'\n",
      " 'R' 'R' 'L' 'R' 'R' 'R' 'L' 'L' 'R' 'R' 'L' 'R' 'R' 'L' 'R' 'R' 'R' 'R'\n",
      " 'L' 'L' 'R' 'R' 'L' 'R' 'R' 'L' 'L' 'L' 'R' 'L' 'R' 'R' 'R' 'R' 'L' 'L'\n",
      " 'R' 'R' 'R' 'L' 'R' 'L' 'L' 'L' 'R' 'R' 'R' 'R' 'L' 'R' 'L' 'R' 'L' 'L'\n",
      " 'L' 'R' 'L' 'L' 'R' 'R' 'R' 'L' 'R' 'L' 'L' 'L' 'L' 'R' 'L' 'R' 'R' 'R'\n",
      " 'R' 'R' 'R' 'R' 'L' 'R' 'R' 'R' 'L' 'L' 'R' 'R' 'R' 'L' 'L' 'L' 'L' 'R'\n",
      " 'L' 'L' 'L' 'R' 'R' 'R' 'R' 'L' 'R' 'R' 'L' 'R' 'L' 'L' 'R' 'R' 'L' 'R'\n",
      " 'R' 'L' 'R' 'L' 'R' 'L' 'R' 'R']\n",
      "Confusion Matrix :  [[ 0  6  9]\n",
      " [ 0 52 23]\n",
      " [ 0 15 83]]\n",
      "Accuracy :  71.80851063829788\n",
      "Report :                precision    recall  f1-score   support\n",
      "\n",
      "           B       0.00      0.00      0.00        15\n",
      "           L       0.71      0.69      0.70        75\n",
      "           R       0.72      0.85      0.78        98\n",
      "\n",
      "    accuracy                           0.72       188\n",
      "   macro avg       0.48      0.51      0.49       188\n",
      "weighted avg       0.66      0.72      0.69       188\n",
      "\n",
      "Results Using Entropy : \n",
      "predicted values: \n",
      "['R' 'R' 'R' 'R' 'R' 'R' 'R' 'L' 'R' 'L' 'R' 'L' 'R' 'L' 'R' 'L' 'R' 'R'\n",
      " 'R' 'R' 'L' 'L' 'L' 'R' 'R' 'R' 'R' 'R' 'R' 'R' 'L' 'R' 'R' 'R' 'L' 'R'\n",
      " 'R' 'R' 'R' 'R' 'L' 'R' 'R' 'L' 'L' 'R' 'R' 'L' 'R' 'L' 'R' 'R' 'L' 'R'\n",
      " 'L' 'L' 'R' 'R' 'R' 'R' 'R' 'L' 'L' 'L' 'R' 'L' 'R' 'R' 'L' 'R' 'R' 'L'\n",
      " 'R' 'R' 'L' 'R' 'R' 'R' 'L' 'L' 'R' 'R' 'L' 'R' 'R' 'L' 'R' 'R' 'R' 'R'\n",
      " 'L' 'L' 'R' 'R' 'L' 'R' 'R' 'L' 'L' 'L' 'R' 'L' 'R' 'R' 'R' 'R' 'L' 'L'\n",
      " 'R' 'R' 'R' 'L' 'R' 'L' 'L' 'L' 'R' 'R' 'R' 'R' 'L' 'R' 'L' 'R' 'L' 'L'\n",
      " 'L' 'R' 'L' 'L' 'R' 'R' 'R' 'L' 'R' 'L' 'L' 'L' 'L' 'R' 'L' 'R' 'R' 'R'\n",
      " 'R' 'R' 'R' 'R' 'L' 'R' 'R' 'R' 'L' 'L' 'R' 'R' 'R' 'L' 'L' 'L' 'L' 'R'\n",
      " 'L' 'L' 'L' 'R' 'R' 'R' 'R' 'L' 'R' 'R' 'L' 'R' 'L' 'L' 'R' 'R' 'L' 'R'\n",
      " 'R' 'L' 'R' 'L' 'R' 'L' 'R' 'R']\n",
      "Confusion Matrix :  [[ 0  6  9]\n",
      " [ 0 52 23]\n",
      " [ 0 15 83]]\n",
      "Accuracy :  71.80851063829788\n",
      "Report :                precision    recall  f1-score   support\n",
      "\n",
      "           B       0.00      0.00      0.00        15\n",
      "           L       0.71      0.69      0.70        75\n",
      "           R       0.72      0.85      0.78        98\n",
      "\n",
      "    accuracy                           0.72       188\n",
      "   macro avg       0.48      0.51      0.49       188\n",
      "weighted avg       0.66      0.72      0.69       188\n",
      "\n"
     ]
    },
    {
     "name": "stderr",
     "output_type": "stream",
     "text": [
      "C:\\Users\\DIT\\anaconda3\\lib\\site-packages\\sklearn\\metrics\\_classification.py:1344: UndefinedMetricWarning: Precision and F-score are ill-defined and being set to 0.0 in labels with no predicted samples. Use `zero_division` parameter to control this behavior.\n",
      "  _warn_prf(average, modifier, msg_start, len(result))\n",
      "C:\\Users\\DIT\\anaconda3\\lib\\site-packages\\sklearn\\metrics\\_classification.py:1344: UndefinedMetricWarning: Precision and F-score are ill-defined and being set to 0.0 in labels with no predicted samples. Use `zero_division` parameter to control this behavior.\n",
      "  _warn_prf(average, modifier, msg_start, len(result))\n",
      "C:\\Users\\DIT\\anaconda3\\lib\\site-packages\\sklearn\\metrics\\_classification.py:1344: UndefinedMetricWarning: Precision and F-score are ill-defined and being set to 0.0 in labels with no predicted samples. Use `zero_division` parameter to control this behavior.\n",
      "  _warn_prf(average, modifier, msg_start, len(result))\n",
      "C:\\Users\\DIT\\anaconda3\\lib\\site-packages\\sklearn\\metrics\\_classification.py:1344: UndefinedMetricWarning: Precision and F-score are ill-defined and being set to 0.0 in labels with no predicted samples. Use `zero_division` parameter to control this behavior.\n",
      "  _warn_prf(average, modifier, msg_start, len(result))\n",
      "C:\\Users\\DIT\\anaconda3\\lib\\site-packages\\sklearn\\metrics\\_classification.py:1344: UndefinedMetricWarning: Precision and F-score are ill-defined and being set to 0.0 in labels with no predicted samples. Use `zero_division` parameter to control this behavior.\n",
      "  _warn_prf(average, modifier, msg_start, len(result))\n",
      "C:\\Users\\DIT\\anaconda3\\lib\\site-packages\\sklearn\\metrics\\_classification.py:1344: UndefinedMetricWarning: Precision and F-score are ill-defined and being set to 0.0 in labels with no predicted samples. Use `zero_division` parameter to control this behavior.\n",
      "  _warn_prf(average, modifier, msg_start, len(result))\n"
     ]
    }
   ],
   "source": [
    "if __name__==\"__main__\":\n",
    "    main()"
   ]
  },
  {
   "cell_type": "code",
   "execution_count": null,
   "id": "8f989965",
   "metadata": {},
   "outputs": [],
   "source": []
  }
 ],
 "metadata": {
  "kernelspec": {
   "display_name": "Python 3 (ipykernel)",
   "language": "python",
   "name": "python3"
  },
  "language_info": {
   "codemirror_mode": {
    "name": "ipython",
    "version": 3
   },
   "file_extension": ".py",
   "mimetype": "text/x-python",
   "name": "python",
   "nbconvert_exporter": "python",
   "pygments_lexer": "ipython3",
   "version": "3.9.16"
  }
 },
 "nbformat": 4,
 "nbformat_minor": 5
}
