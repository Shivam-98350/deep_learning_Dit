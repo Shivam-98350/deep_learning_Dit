{
 "cells": [
  {
   "cell_type": "code",
   "execution_count": 20,
   "id": "e8a7652f",
   "metadata": {},
   "outputs": [],
   "source": [
    "import numpy as np\n",
    "import pandas as pd"
   ]
  },
  {
   "cell_type": "code",
   "execution_count": 21,
   "id": "87954d5c",
   "metadata": {},
   "outputs": [],
   "source": [
    "import matplotlib.pyplot as plt\n",
    "from sklearn import linear_model"
   ]
  },
  {
   "cell_type": "code",
   "execution_count": 22,
   "id": "0c076697",
   "metadata": {},
   "outputs": [],
   "source": [
    "df=pd.read_excel('housepriceprediction2.xlsx')"
   ]
  },
  {
   "cell_type": "code",
   "execution_count": 23,
   "id": "40eaffbc",
   "metadata": {},
   "outputs": [
    {
     "data": {
      "text/html": [
       "<div>\n",
       "<style scoped>\n",
       "    .dataframe tbody tr th:only-of-type {\n",
       "        vertical-align: middle;\n",
       "    }\n",
       "\n",
       "    .dataframe tbody tr th {\n",
       "        vertical-align: top;\n",
       "    }\n",
       "\n",
       "    .dataframe thead th {\n",
       "        text-align: right;\n",
       "    }\n",
       "</style>\n",
       "<table border=\"1\" class=\"dataframe\">\n",
       "  <thead>\n",
       "    <tr style=\"text-align: right;\">\n",
       "      <th></th>\n",
       "      <th>Area</th>\n",
       "      <th>Price</th>\n",
       "      <th>Age</th>\n",
       "    </tr>\n",
       "  </thead>\n",
       "  <tbody>\n",
       "    <tr>\n",
       "      <th>0</th>\n",
       "      <td>4598.0</td>\n",
       "      <td>9439694.0</td>\n",
       "      <td>60.0</td>\n",
       "    </tr>\n",
       "    <tr>\n",
       "      <th>1</th>\n",
       "      <td>1299.0</td>\n",
       "      <td>3126693.0</td>\n",
       "      <td>40.0</td>\n",
       "    </tr>\n",
       "    <tr>\n",
       "      <th>2</th>\n",
       "      <td>3861.0</td>\n",
       "      <td>NaN</td>\n",
       "      <td>36.0</td>\n",
       "    </tr>\n",
       "    <tr>\n",
       "      <th>3</th>\n",
       "      <td>3542.0</td>\n",
       "      <td>7427574.0</td>\n",
       "      <td>59.0</td>\n",
       "    </tr>\n",
       "    <tr>\n",
       "      <th>4</th>\n",
       "      <td>2673.0</td>\n",
       "      <td>3980097.0</td>\n",
       "      <td>68.0</td>\n",
       "    </tr>\n",
       "    <tr>\n",
       "      <th>5</th>\n",
       "      <td>3495.0</td>\n",
       "      <td>12980430.0</td>\n",
       "      <td>72.0</td>\n",
       "    </tr>\n",
       "    <tr>\n",
       "      <th>6</th>\n",
       "      <td>2864.0</td>\n",
       "      <td>10089872.0</td>\n",
       "      <td>NaN</td>\n",
       "    </tr>\n",
       "    <tr>\n",
       "      <th>7</th>\n",
       "      <td>3597.0</td>\n",
       "      <td>16298007.0</td>\n",
       "      <td>20.0</td>\n",
       "    </tr>\n",
       "    <tr>\n",
       "      <th>8</th>\n",
       "      <td>3937.0</td>\n",
       "      <td>6393688.0</td>\n",
       "      <td>60.0</td>\n",
       "    </tr>\n",
       "    <tr>\n",
       "      <th>9</th>\n",
       "      <td>1505.0</td>\n",
       "      <td>2358335.0</td>\n",
       "      <td>31.0</td>\n",
       "    </tr>\n",
       "  </tbody>\n",
       "</table>\n",
       "</div>"
      ],
      "text/plain": [
       "     Area       Price   Age\n",
       "0  4598.0   9439694.0  60.0\n",
       "1  1299.0   3126693.0  40.0\n",
       "2  3861.0         NaN  36.0\n",
       "3  3542.0   7427574.0  59.0\n",
       "4  2673.0   3980097.0  68.0\n",
       "5  3495.0  12980430.0  72.0\n",
       "6  2864.0  10089872.0   NaN\n",
       "7  3597.0  16298007.0  20.0\n",
       "8  3937.0   6393688.0  60.0\n",
       "9  1505.0   2358335.0  31.0"
      ]
     },
     "execution_count": 23,
     "metadata": {},
     "output_type": "execute_result"
    }
   ],
   "source": [
    "df.head(10)"
   ]
  },
  {
   "cell_type": "markdown",
   "id": "ba9c357c",
   "metadata": {},
   "source": [
    "using fillna\n"
   ]
  },
  {
   "cell_type": "code",
   "execution_count": 24,
   "id": "29d0e8e2",
   "metadata": {},
   "outputs": [
    {
     "data": {
      "text/html": [
       "<div>\n",
       "<style scoped>\n",
       "    .dataframe tbody tr th:only-of-type {\n",
       "        vertical-align: middle;\n",
       "    }\n",
       "\n",
       "    .dataframe tbody tr th {\n",
       "        vertical-align: top;\n",
       "    }\n",
       "\n",
       "    .dataframe thead th {\n",
       "        text-align: right;\n",
       "    }\n",
       "</style>\n",
       "<table border=\"1\" class=\"dataframe\">\n",
       "  <thead>\n",
       "    <tr style=\"text-align: right;\">\n",
       "      <th></th>\n",
       "      <th>Area</th>\n",
       "      <th>Price</th>\n",
       "      <th>Age</th>\n",
       "    </tr>\n",
       "  </thead>\n",
       "  <tbody>\n",
       "    <tr>\n",
       "      <th>0</th>\n",
       "      <td>4598.0</td>\n",
       "      <td>9439694.0</td>\n",
       "      <td>60.0</td>\n",
       "    </tr>\n",
       "    <tr>\n",
       "      <th>1</th>\n",
       "      <td>1299.0</td>\n",
       "      <td>3126693.0</td>\n",
       "      <td>40.0</td>\n",
       "    </tr>\n",
       "    <tr>\n",
       "      <th>2</th>\n",
       "      <td>3861.0</td>\n",
       "      <td>10000.0</td>\n",
       "      <td>36.0</td>\n",
       "    </tr>\n",
       "    <tr>\n",
       "      <th>3</th>\n",
       "      <td>3542.0</td>\n",
       "      <td>7427574.0</td>\n",
       "      <td>59.0</td>\n",
       "    </tr>\n",
       "    <tr>\n",
       "      <th>4</th>\n",
       "      <td>2673.0</td>\n",
       "      <td>3980097.0</td>\n",
       "      <td>68.0</td>\n",
       "    </tr>\n",
       "    <tr>\n",
       "      <th>5</th>\n",
       "      <td>3495.0</td>\n",
       "      <td>12980430.0</td>\n",
       "      <td>72.0</td>\n",
       "    </tr>\n",
       "    <tr>\n",
       "      <th>6</th>\n",
       "      <td>2864.0</td>\n",
       "      <td>10089872.0</td>\n",
       "      <td>10000.0</td>\n",
       "    </tr>\n",
       "    <tr>\n",
       "      <th>7</th>\n",
       "      <td>3597.0</td>\n",
       "      <td>16298007.0</td>\n",
       "      <td>20.0</td>\n",
       "    </tr>\n",
       "    <tr>\n",
       "      <th>8</th>\n",
       "      <td>3937.0</td>\n",
       "      <td>6393688.0</td>\n",
       "      <td>60.0</td>\n",
       "    </tr>\n",
       "    <tr>\n",
       "      <th>9</th>\n",
       "      <td>1505.0</td>\n",
       "      <td>2358335.0</td>\n",
       "      <td>31.0</td>\n",
       "    </tr>\n",
       "  </tbody>\n",
       "</table>\n",
       "</div>"
      ],
      "text/plain": [
       "     Area       Price      Age\n",
       "0  4598.0   9439694.0     60.0\n",
       "1  1299.0   3126693.0     40.0\n",
       "2  3861.0     10000.0     36.0\n",
       "3  3542.0   7427574.0     59.0\n",
       "4  2673.0   3980097.0     68.0\n",
       "5  3495.0  12980430.0     72.0\n",
       "6  2864.0  10089872.0  10000.0\n",
       "7  3597.0  16298007.0     20.0\n",
       "8  3937.0   6393688.0     60.0\n",
       "9  1505.0   2358335.0     31.0"
      ]
     },
     "execution_count": 24,
     "metadata": {},
     "output_type": "execute_result"
    }
   ],
   "source": [
    "df.fillna(10000,inplace=True)\n",
    "df.dropna()\n",
    "df.head(10)\n"
   ]
  },
  {
   "cell_type": "code",
   "execution_count": 32,
   "id": "8fe08366",
   "metadata": {},
   "outputs": [
    {
     "data": {
      "text/plain": [
       "Text(0.5, 1.0, 'house Price')"
      ]
     },
     "execution_count": 32,
     "metadata": {},
     "output_type": "execute_result"
    },
    {
     "data": {
      "image/png": "[encoded data removed]",
      "text/plain": [
       "<Figure size 640x480 with 1 Axes>"
      ]
     },
     "metadata": {},
     "output_type": "display_data"
    }
   ],
   "source": [
    "plt.scatter(df.Area,df.Price,c=\"purple\",marker='+')\n",
    "plt.xlabel(\"Area\")\n",
    "plt.ylabel(\"Price\")\n",
    "plt.title(\"house Price\")"
   ]
  },
  {
   "cell_type": "code",
   "execution_count": 37,
   "id": "d1d1916a",
   "metadata": {},
   "outputs": [
    {
     "name": "stdout",
     "output_type": "stream",
     "text": [
      "3277392.1739738164\n",
      "[1179.57189311]\n"
     ]
    }
   ],
   "source": [
    "x=linear_model.LinearRegression()\n",
    "x.fit(df[['Area']],df.Price)\n",
    "print(x.intercept_)\n",
    "print(x.coef_)"
   ]
  },
  {
   "cell_type": "code",
   "execution_count": 38,
   "id": "06d362e9",
   "metadata": {},
   "outputs": [],
   "source": [
    "from sklearn.preprocessing import PolynomialFeatures"
   ]
  },
  {
   "cell_type": "code",
   "execution_count": 52,
   "id": "a5376ac7",
   "metadata": {},
   "outputs": [
    {
     "data": {
      "text/plain": [
       "LinearRegression()"
      ]
     },
     "execution_count": 52,
     "metadata": {},
     "output_type": "execute_result"
    }
   ],
   "source": [
    "polyreg=PolynomialFeatures(degree=2)\n",
    "x_poly=polyreg.fit_transform(df)\n",
    "linreg2=linear_model.LinearRegression()\n",
    "linreg2.fit(x_poly,df.Price)"
   ]
  },
  {
   "cell_type": "code",
   "execution_count": 50,
   "id": "66171806",
   "metadata": {},
   "outputs": [
    {
     "name": "stdout",
     "output_type": "stream",
     "text": [
      "-1.3379380106925964e-05\n",
      "[ 0.00000000e+00  6.15646560e-10  1.00000000e+00  1.82885826e-10\n",
      " -4.86605364e-14 -1.31158963e-16 -2.11509669e-15  2.33540679e-19\n",
      "  2.30151936e-17 -4.54303537e-14]\n"
     ]
    }
   ],
   "source": [
    "print(linreg2.intercept_)\n",
    "print(linreg2.coef_)"
   ]
  },
  {
   "cell_type": "code",
   "execution_count": null,
   "id": "673cd225",
   "metadata": {},
   "outputs": [],
   "source": []
  }
 ],
 "metadata": {
  "kernelspec": {
   "display_name": "Python 3 (ipykernel)",
   "language": "python",
   "name": "python3"
  },
  "language_info": {
   "codemirror_mode": {
    "name": "ipython",
    "version": 3
   },
   "file_extension": ".py",
   "mimetype": "text/x-python",
   "name": "python",
   "nbconvert_exporter": "python",
   "pygments_lexer": "ipython3",
   "version": "3.9.13"
  }
 },
 "nbformat": 4,
 "nbformat_minor": 5
}
